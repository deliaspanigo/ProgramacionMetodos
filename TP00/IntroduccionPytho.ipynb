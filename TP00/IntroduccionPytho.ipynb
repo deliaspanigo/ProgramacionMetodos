{
 "cells": [
  {
   "cell_type": "markdown",
   "metadata": {
    "id": "Q_z8SGTPwstl"
   },
   "source": [
    "Maestría en Aplicaciones de Información Espacial.\n",
    "\n",
    "Programación y Métodos Numéricos orientados al tratamiento de imágenes satelitales.\n",
    "\n",
    "Carolina Tauro, Estefanía De Elia, German Maglione \n",
    "\n",
    "Mayo 2022\n",
    "\n",
    "# Introducción a Python\n",
    "\n",
    "Python es un lenguaje de programación de propósito general muy poderoso y flexible, a la vez que sencillo y fácil de aprender.\n",
    "\n",
    "**Características:**\n",
    "1. Legible: Su sintaxís es muy legible.\n",
    "2. Fácil de aprender: Aprender Python es fácil ya que es un lenguaje de programación expresivo y de alto nivel, lo que significa que es fácil de entender el lenguaje y, por lo tanto, fácil de aprender.\n",
    "3. Multiplataforma: Python está disponible y puede ejecutarse en varios sistemas operativos como Mac, Windows, Linux, Unix, etc. Esto lo convierte en un lenguaje multiplataforma y portátil. Es decir que un mismo código fuente puede ejecutarse en distintos sistemas operativos. En la mayoría de los sistemas operativos el intérprete de Python viene instalado por omisión. \n",
    "4. Código abierto: Python es un lenguaje de programación de código abierto. Python es gratis para descargar y usar. Esto significa que puede descargarlo gratis y usarlo en su aplicación. Ver: Licencia de Python de código abierto. Python es un ejemplo de FLOSS (software de código abierto gratuito / libre), lo que significa que puede distribuir libremente copias de este software, leer su código fuente y modificarlo.\n",
    "5. Biblioteca estándar grande: Python viene con una biblioteca estándar grande que tiene algunos códigos y funciones útiles que podemos usar al escribir código en Python.\n",
    "6. Admite el manejo de excepciones: Una excepción es un evento que puede ocurrir durante la ejecución del programa y puede interrumpir el flujo normal del programa. Python admite el manejo de excepciones, lo que significa que podemos escribir menos código propenso a errores y podemos probar varios escenarios que pueden causar una excepción más adelante.\n",
    "7. Funciones avanzadas: admite generadores y listas de comprensión, funtores, decoradores, etc.\n",
    "8. Administración automática de memoria: Python admite la administración automática de memoria, lo que significa que la memoria se borra y libera automáticamente. No tiene que molestarse en borrar la memoria.\n",
    "Python es un lenguaje interpretado y usa tipado dinámico. A continuación explicamos estos conceptos:\n",
    "\n",
    "# Lenguajes tipificados y lenguajes no tipificados\n",
    "\n",
    "En programación, los elementos/objetos que pueden almacenar información se llaman variables. Dependiendo del tipo de información (números, letras, etc) que se almacena se usan variables de un tipo o de otro. Una característica que diferencia unos lenguajes de otros es la rigidez o permisividad con respecto a los tipos de variables.\n",
    "* Los **lenguajes tipificados** (también llamados de tipado estático) son aquellos en los que una variable guarda siempre un mismo tipo de datos. En algunos lenguajes tipificados se exige al programador que declare el tipo de cada variable y en otros lo determina el compilador. En algunos lenguajes tipificados se permite la conversión entre tipos de variables y en otros no. \n",
    "      float simpleInterest; //Declarando variable float\n",
    "      int time = 10, speed = 20; //Declarando e Inicializando la variable integer\n",
    "      char var = 'h'; // Declarando e Inicializando la variable character\n",
    "Algunas ventajas de los lenguajes tipificados es que permiten detectar errores de tipo (cuando un dato de un tipo se guarda en una variable de otro tipo), que permiten a los compiladores optimizar mejor el código ejecutable y, en el caso de exigir la declaración de tipo de las variables, que facilitan la comprensión de los programas.\n",
    "\n",
    "* Los **lenguajes no tipificados** (también llamados de tipado dinámico) no requieren la declaración de tipo de las variables y una misma variable puede almacenar valores de tipos distintos a lo largo de la ejecución del programa. \n",
    "      a = 11\n",
    "      print a, type(a)\n",
    "      > 11 <type 'int'>\n",
    "  \n",
    "      a = \"hola mundo\"\n",
    "      print a, type(a)\n",
    "      > hola mundo <type 'str'>\n",
    "\n",
    "Algunas ventajas de los lenguajes no tipificados es la mayor flexibilidad de los programas, y una serie de características que aunque no se derivan necesariamente de la falta de tipificación suelen presentar los lenguajes no tipificados: simplicidad, mayor número de tipos de datos, metaprogramación (introspección, eval, etc.). La mayoría de lenguajes de tipado dinámico son lenguajes interpretados, como Python o Ruby\n",
    "\n",
    "# Lenguajes compilados vs. lenguajes interpretados\n",
    "El programa de ordenador que es capaz de convertir el programa fuente escrito por el programador en el programa ejecutable que ejecuta el ordenador puede realizar esa tarea de dos formas distintas:\n",
    "* En un **lenguaje compilado**, la tarea de conversión se realiza una sola vez. El compilador crea un fichero ejecutable a partir del código fuente del programa y a partir de entonces el usuario ejecuta el fichero ejecutable tantas veces como quiera, sin tener que volver a utilizar el código fuente. \n",
    "* En un **lenguaje interpretado**, la tarea de conversión se realiza cada vez que se quiere ejecutar el programa. El intérprete lee una instrucción del programa fuente, la convierte en código ejecutable, la ejecuta y pasa a la siguiente. En este caso, el usuario necesita tener el programa fuente para poder ejecutarlo. \n",
    "\n",
    "Las preferencias por compiladores o intérpretes pueden deberse a motivaciones no técnicas. Por ejemplo, el programador de software comercial preferirá el uso de lenguajes compilados para poder comercializar el programa ejecutable sin necesidad de hacer público el programa fuente, mientras que el programador de software libre no tiene problemas con los lenguajes interpretados puesto que va a proporcionar también el código fuente.\n",
    "Evitando la compilación, los programas interpretados son más fáciles de evolucionar durante el desarrollo y la ejecución. Por otra parte, ya que la compilación implica una traducción a un formato más amigable con la máquina, los programas interpretados pueden correr más lentamente.\n",
    "\n",
    "# Historia\n",
    "\n",
    "/home/estefania/Descargas/Guido_van_Rossum_2006.jpg\n",
    "\n",
    "Python fue creado/ideado a finales de los ochenta por Guido van Rossum en el Centro para las Matemáticas y la Informática (CWI, Centrum Wiskunde & Informatica), en los Países Bajos. Guido van Rossum comenzó a implementarlo en diciembre de 1989. Es relativamente joven (Fortran 1957, Pascal 1970, C 1972, Modula-2 1978, Java 1991). Toma características de lenguajes predecesores, incluso, compatibilizando la solución de varios de ellos. Por ejemplo, habilita tres formas de imprimir el valor de una variable: desde el entorno interactivo escribiendo su nombre (como en Basic), usando la función print, con concatenación de elementos (al estilo del write de Pascal) o bien con patrones de formato (al estilo del printf de C)\n",
    "\n",
    "        > nombre = \"Juan\"\n",
    "        > nombre\n",
    "        > print(\"Mi nombre es:\", nombre)\n",
    "        > print(\"Hola, %s!\" % nombre)\n",
    "En febrero de 1991 se publicó la primera versión pública, la versión 0.9.0. La versión 1.0 se publicó en enero de 1994, la versión 2.0 se publicó en octubre de 2000 y la versión 3.0 se publicó en diciembre de 2008. El desarrollo de Python lo lleva a cabo un colectivo de programadores que trabaja bajo el paraguas de la fundación Python Software Foundation, pero Guido van Rossum sigue dirigiendo el desarrollo de Python.\n",
    "Las versiones de Python se identifican por tres números X.Y.Z, en la que:\n",
    "* X corresponde a las grandes versiones de Python (1, 2 y 3), incompatibles entre sí. Los principales cambios introducidos en Python 2 fueron las cadenas Unicode, las comprensiones de listas, las asignaciones aumentadas, los nuevos métodos de cadenas y el recolector de basura para referencias cíclicas. Los principales cambios introducidos en Python 3 fueron la separación entre cadenas Unicode y datos binarios, la función print(), cambios en la sintaxis, tipos de datos, comparadores, etc. Por el momento, no hay planes de crear otra versión incompatible.\n",
    "* Y corresponde a versiones importantes en las que se introducen novedades en el lenguaje pero manteniendo la compatibilidad (salvo excepciones). Desde hace unos años, las versiones X.Y se publican aproximadamente cada año y medio y se mantienen durante cinco años, excepto la versión 2.7, que se mantendrá durante diez años, hasta 2020.\n",
    "* Z corresponde a versiones menores que se publican durante el período de mantenimiento, en las que sólo se corrigen errores y fallos de seguridad. \n",
    "\n",
    "Normalmente, se publica una última versión X.Y.Z justo antes de que una versión X.Y deje de mantenerse. Algunas empresas comerciales ofrecen el mantenimiento de versiones antiguas una vez acabado el mantenimiento oficial.\n",
    "\n",
    "# Applicaciones: ¿Qué se puede hacer con Python?\n",
    "El Python Package Index (PyPI) o en español significa \"Índice de paquetes de Python\" alberga miles de módulos de terceros para Python. Tanto la biblioteca estándar de Python como los módulos aportados por la comunidad permiten infinitas posibilidades.\n",
    "\n",
    "* Desarrollo web e Internet: el marco web como Django y Flask se basan en Python. Lo ayudan a escribir el código del lado del servidor que lo ayuda a administrar la base de datos, escribir la lógica de programación del backend, mapear las URL, etc.\n",
    "* Acceso a la base de datos.\n",
    "* Aplicaciones de escritorio: puede desarrollar aplicaciones de escritorio en Python usando una biblioteca como TKinter o QT.\n",
    "* Científico y numérico.\n",
    "* Educación.\n",
    "* Programación de red.\n",
    "* Desarrollo de Software y Juegos.\n",
    "* Desarrollo Geospacial\n",
    "* Aprendizaje automático: hay muchas aplicaciones de aprendizaje automático escritas en Python. El aprendizaje automático es una forma de escribir una lógica para que una máquina pueda aprender y resolver un problema particular por sí misma. Por ejemplo, la recomendación de productos en sitios web como Amazon, Flipkart, eBay, etc. es un algoritmo de aprendizaje automático que reconoce el interés del usuario. El reconocimiento facial y el reconocimiento de voz en su teléfono es otro ejemplo de aprendizaje automático.\n",
    "* Análisis de datos: el análisis de datos y la visualización de datos en forma de gráficos también se pueden desarrollar utilizando Python.\n",
    "* Scripting - Scripting es escribir pequeños programas para automatizar tareas simples como enviar correos electrónicos de respuesta automatizados, etc. Este tipo de aplicaciones también se pueden escribir en lenguaje de programación Python.\n"
   ]
  },
  {
   "cell_type": "markdown",
   "metadata": {
    "id": "8Q5UOw5GvtEG"
   },
   "source": [
    "# Python es un lenguaje orientado a objetos\n",
    "La programación orientada a objetos, o OOP para abreviar, es un paradigma de programación que proporciona una forma de estructurar programas para que las propiedades y los comportamientos se agrupen en objetos individuales.\n",
    "\n",
    "Dicho de otra manera, la programación orientada a objetos es un enfoque para modelar cosas concretas del mundo real, como los automóviles, así como las relaciones entre cosas como compañías y empleados, estudiantes y maestros, etc. OOP modela entidades del mundo real como objetos de software, que tienen algunos datos asociados con ellos y pueden realizar ciertas funciones.\n",
    "\n",
    "Lo más básico y fundamental de un objeto son los atributos y los métodos. De este modo podemos ver una clase como una manera de agrupar variables, \"sus atributos\", y funciones que operan sobre estas variables, \"sus métodos\".\n",
    "\n",
    "Es imposible hablar de Python y no hablar sobre la orientación a objetos porque en Python prácticamente todo es un objeto. Por ejemplo las estructuras de datos primitivas de python son un objeto: un número complejo, un string, una lista, etc.\n",
    "\n",
    "NOTA: \n",
    "* Dado que Python es un lenguaje de programación de paradigmas múltiples, puede elegir el paradigma que mejor se adapte al problema en cuestión, mezclar diferentes paradigmas en un programa y / o cambiar de un paradigma a otro a medida que su programa evoluciona.\n",
    "\n",
    "* Python nos provee de reglas de estilos, a fin de poder escribir código fuente más legible y de manera estandarizada. Estas reglas de estilo, son definidas a través de la *Python Enhancement Proposal* Nº 8 ([PEP 8](https://www.python.org/dev/peps/pep-0008/))\n",
    "\n",
    "\n"
   ]
  },
  {
   "cell_type": "code",
   "execution_count": 3,
   "metadata": {
    "colab": {
     "base_uri": "https://localhost:8080/"
    },
    "id": "QadAaPlqv01a",
    "outputId": "782250b9-6d67-4815-c02a-7a2aeb38e5bc"
   },
   "outputs": [
    {
     "name": "stdout",
     "output_type": "stream",
     "text": [
      "Name :  Marcos , Salary:  2000\n",
      "Name :  Claudia , Salary:  5000\n",
      "Total Employee 2\n"
     ]
    }
   ],
   "source": [
    "'''\n",
    "La variable empCount es una variable de clase. \n",
    "Se puede acceder a este como Employee.empCount desde dentro de la clase o fuera de la clase.\n",
    "El primer método __init __ () es un método especial, que se llama constructor de clases o método de inicialización \n",
    "que Python llama cuando crea una nueva instancia de esta clase.\n",
    "Otros métodos de clase se declaran como funciones normales con la excepción de que el primer argumento para cada método es self. \n",
    "Python agrega el argumento propio a la lista por usted; no necesita incluirlo cuando llame a los métodos.\n",
    "'''\n",
    "class Employee:\n",
    "   'Common base class for all employees'\n",
    "   empCount = 0\n",
    "\n",
    "   def __init__(self, name, salary):\n",
    "      self.name = name\n",
    "      self.salary = salary\n",
    "      Employee.empCount += 1\n",
    "   \n",
    "   def displayCount(self):\n",
    "     print (\"Total Employee %d\" %(Employee.empCount))\n",
    "\n",
    "   def displayEmployee(self):\n",
    "      print (\"Name : \", self.name,  \", Salary: \", self.salary)\n",
    "\n",
    "\"Crear la primera instancia de la clase Employee\"\n",
    "emp1 = Employee(\"Marcos\", 2000)\n",
    "\"Crear la segunda instancia de la clase Employee\"\n",
    "emp2 = Employee(\"Claudia\", 5000)\n",
    "emp1.displayEmployee()\n",
    "emp2.displayEmployee()\n",
    "emp1.displayCount()"
   ]
  },
  {
   "cell_type": "markdown",
   "metadata": {
    "id": "EPVxbWzkvzNY"
   },
   "source": [
    "# En Python todo está modularizado\n",
    "\n",
    "Los módulos en Python son simplemente archivos Python con la extensión .py, que implementa un conjunto de funciones. Los módulos son importados desde otros módulos usando el comando import.\n",
    "\n",
    "Esta sí es una diferencia esencial con otros lenguajes de programación como Matlab/Octave y Python. En estos lenguajes cualquier función de la biblioteca está accesible al intérprete. Esto hace que, a medida que el número de funciones crece, crezca también la probabilidad de conflictos.\n",
    "En Python todas las bibliotecas, incluso la biblioteca estándar, están modularizadas. \n",
    "\n",
    "Escribir módulos en Python es muy sencillo. Para crear un módulo propio, simplemente creamos un nuevo archivo .py con el nombre del módulo, y después lo importamos usando el nombre del archivo Python (sin la extensión .py) usando el comando import. Podemos importar módulos prácticamente en cualquier punto de la ejecución pero por convención se suelen importar al principio.\n",
    "\n",
    "**Escribiendo paquetes**\n",
    "\n",
    "Los paquetes son espacios de nombre que contienen múltiples paquetes y módulos múltiples. Son simplemente directorios, pero dándole un giro.\n",
    "\n",
    "Cada paquete en Python es un directorio que DEBE contener un archivo especial llamado __init__ py. Este archivo puede estar vacío, e indica que el contenido del directorio es un paquete Python, así que puede ser importado de la misma manera que se importa un módulo.\n",
    "\n",
    "Si creamos un directorio llamado foo, que marca el nombre del paquete, podemos crear un módulo dentro del paquete llamado bar. Además no debemos olvidarnos de agregar el fichero __init__.py dentro del directorio foo.\n",
    "\n",
    "Para usar el módulo bar, podemos importarlo de dos maneras:\n",
    "\n",
    "      import foo.bar\n",
    "\n",
    "o:\n",
    "\n",
    "      from foo import bar\n",
    "\n",
    "Con el primer método, debemos usar el prefijo foo cuando accedamos al módulo bar. En el segundo método no lo necesitamos, porque importamos el módulo al espacio de nombres de nuestro módulo.\n",
    "\n",
    "El archivo __init__.py puede además decidir que módulos exporta el paquete como API, mientras mantiene los otros módulos internamente, sobreescribiendo la variable __all__, tal que así:\n",
    "\n",
    "      __init__.py\n",
    "\n",
    "      __all__ = [\"bar\"]\n",
    "\n",
    "Otro ejemplo:\n",
    "\n",
    "Si queremos calcular la función $seno$ tendremos que importar antes el módulo que contiene tanto la función $seno$ como el valor de la constante $pi$. Este módulo se llama $math$\n",
    "\n",
    "\n"
   ]
  },
  {
   "cell_type": "code",
   "execution_count": 4,
   "metadata": {
    "colab": {
     "base_uri": "https://localhost:8080/",
     "height": 35
    },
    "id": "0B78KhEnBklg",
    "outputId": "bf6cd340-23e9-425e-f288-07a137c90b3f"
   },
   "outputs": [
    {
     "data": {
      "text/plain": [
       "1.2246467991473532e-16"
      ]
     },
     "execution_count": 4,
     "metadata": {},
     "output_type": "execute_result"
    }
   ],
   "source": [
    "'''Cada módulo es en sí un objeto. En este caso, después de importar math, hemos llegado a la constante  como un atributo del módulo y a la función sin como un método'''\n",
    "import math\n",
    "math.sin(math.pi)"
   ]
  },
  {
   "cell_type": "code",
   "execution_count": 6,
   "metadata": {
    "colab": {
     "base_uri": "https://localhost:8080/",
     "height": 229
    },
    "id": "fSXxdKkTCWQ5",
    "outputId": "b2b3575e-5482-4a3a-c532-4f5c1e88a2fc"
   },
   "outputs": [
    {
     "name": "stdout",
     "output_type": "stream",
     "text": [
      "1.2246467991473532e-16\n",
      "-1.0\n"
     ]
    }
   ],
   "source": [
    "'''Si queremos importar sólo la funcion seno y pi'''\n",
    "from math import sin,pi, cos\n",
    "print(sin(pi))\n",
    "print(cos(pi))"
   ]
  },
  {
   "cell_type": "code",
   "execution_count": null,
   "metadata": {
    "colab": {
     "base_uri": "https://localhost:8080/"
    },
    "id": "G2YELr1SCXBr",
    "outputId": "5a5ebe27-34ea-4ab9-a8c0-b24bb8fe887f"
   },
   "outputs": [
    {
     "name": "stdout",
     "output_type": "stream",
     "text": [
      "1.2246467991473532e-16\n",
      "-1.0\n",
      "-1.2246467991473532e-16\n"
     ]
    }
   ],
   "source": [
    "''' Podemos utilizar un * para importar todo el contenido del módulo y ponerlo a disposición del programa'''\n",
    "from math import *\n",
    "print(sin(pi))\n",
    "print(cos(pi))\n",
    "print(tan(pi))"
   ]
  },
  {
   "cell_type": "markdown",
   "metadata": {
    "id": "q8ycOzW8DfcL"
   },
   "source": [
    "Estructura de carpetas con modulos repetidos:\n",
    "\n",
    "$\n",
    "└── mpcapp \n",
    "    ├── __init__.py \n",
    "    ├── models.py \n",
    "    └── arg \n",
    "        ├── __init__.py \n",
    "        ├── models.py \n",
    "        └── inputoutput.py\n",
    "    └── ppg\n",
    "     \t  ├── __init__.py \n",
    "     \t  ├── inputoutput.py \n",
    "     \t  └── model.py\n",
    "$\n",
    "\n",
    "    import mpcapp.models as m\n",
    "    from mpcapp.arg import models as argmodel, inputoutput as argio\n",
    "    from mpcapp.ppg import inputoutput as ppgio, model as ppgmode\n",
    "    from mpcapp.arg.models import class1, CONSTANT1\n",
    "    from mpcapp.ppg.models import class1 as ppgcls1, CONSTANT1 as ppgc1"
   ]
  },
  {
   "cell_type": "markdown",
   "metadata": {
    "id": "S_IwZb_Yvvuq"
   },
   "source": [
    "# Modo interactivo\n",
    "\n",
    "El intérprete de Python estándar incluye un modo interactivo en el cual se escriben las instrucciones en una especie de intérprete de comandos.Las expresiones pueden ser introducidas una a una, pudiendo verse el resultado de su evaluación inmediatamente, lo que da la posibilidad de probar porciones de código en el modo interactivo antes de integrarlo como parte de un programa. \n",
    "\n",
    "Esto resulta útil tanto para las personas que se están familiarizando con el lenguaje como para los programadores más avanzados.\n",
    "Existen otros programas, tales como IDLE, bpython o IPython,17 que añaden funcionalidades extra al modo interactivo, como el autocompletado de código y el coloreado de la sintaxis del lenguaje.\n",
    "\n",
    "Ejemplo del modo interactivo:\n"
   ]
  },
  {
   "cell_type": "code",
   "execution_count": null,
   "metadata": {
    "colab": {
     "base_uri": "https://localhost:8080/"
    },
    "id": "NEErnF-xJTgh",
    "outputId": "5b801f44-d76b-40bd-d553-d2034e9f0b38"
   },
   "outputs": [
    {
     "data": {
      "text/plain": [
       "2"
      ]
     },
     "execution_count": 4,
     "metadata": {},
     "output_type": "execute_result"
    }
   ],
   "source": [
    "1 + 1"
   ]
  },
  {
   "cell_type": "code",
   "execution_count": null,
   "metadata": {
    "colab": {
     "base_uri": "https://localhost:8080/"
    },
    "id": "vAHlWi0YME5f",
    "outputId": "1197671f-47b3-455f-9af6-948721bceb4d"
   },
   "outputs": [
    {
     "name": "stdout",
     "output_type": "stream",
     "text": [
      "[1 2 3 4]\n",
      "1\n",
      "(4,)\n",
      "4\n",
      "[4 3 2 1]\n"
     ]
    }
   ],
   "source": [
    "#crear array 1D con la libreria numpy\n",
    "#importamos la libreria\n",
    "import numpy as np\n",
    "\n",
    "a = np.array([1, 2, 3, 4])\n",
    "print(a)\n",
    "\n",
    "#tomamos el numero de dimension del array\n",
    "print(a.ndim)\n",
    "\n",
    "#tomamos la dimensiones del array \n",
    "print(a.shape)\n",
    "\n",
    "#tomamos la cantidad de elementos en el array\n",
    "print(a.size)\n",
    "\n",
    "#dar vuelta los elementos del array\n",
    "print(a[::-1])"
   ]
  },
  {
   "cell_type": "code",
   "execution_count": null,
   "metadata": {
    "colab": {
     "base_uri": "https://localhost:8080/"
    },
    "id": "754wpctd73Cu",
    "outputId": "a03a4c6a-e243-49ea-a98c-ce6aeab39663"
   },
   "outputs": [
    {
     "name": "stdout",
     "output_type": "stream",
     "text": [
      "[  0   1   2   3   4  50  60  70  80  90 100]\n",
      "[[ 0  1  2]\n",
      " [ 0  2 -1]\n",
      " [ 0  3 -1]]\n"
     ]
    }
   ],
   "source": [
    "import numpy as np\n",
    "arr = np.array([[1, 2, 3], [4, 5, 6]])\n",
    "print (arr)\n",
    "print (\"La dimension de arr es:\", arr.ndim)\n",
    "dim = arr.shape\n",
    "print(\"La cantidad de filas es:\",dim[0])\n",
    "print(\"La cantidad de columnas es:\",dim[1])\n",
    "\n",
    "# primer valor hace referencia a la fila, el segundo a la posicion de la columna\n",
    "print(arr[1,1])\n",
    "print(arr[0,:])\n",
    "\n",
    "a = np.ones((3,2)) # a 2D array with 3 rows, 2 columns, filled with ones.\n",
    "print(a)\n",
    "\n",
    "#asignacion\n",
    "a[0,1] = 100\n",
    "print(a)\n",
    "#a[1,1] = \"hola\"\n",
    "#print (a)\n",
    "\n",
    "\n",
    "a = np.array([0,1,2,3,4,5,6,7,8,9,10])\n",
    "print(np.where(a < 5, a, 10*a))  #condicion, condicion True, condicion False\n",
    "\n",
    "a = np.array([[0, 1, 2],[0, 2, 4],[0, 3, 6]])\n",
    "print(np.where(a < 4, a, -1)) \n"
   ]
  },
  {
   "cell_type": "code",
   "execution_count": null,
   "metadata": {
    "colab": {
     "base_uri": "https://localhost:8080/"
    },
    "id": "9pLBnE1TWRtj",
    "outputId": "a56930ca-e92a-4e2c-9e64-827f545b2324"
   },
   "outputs": [
    {
     "name": "stdout",
     "output_type": "stream",
     "text": [
      "[[1 2 3]\n",
      " [4 5 6]]\n",
      "[[1 2 3]\n",
      " [4 5 6]\n",
      " [7 8 9]]\n",
      "[[1 2 3 7]\n",
      " [4 5 6 8]]\n"
     ]
    }
   ],
   "source": [
    "import numpy as np\n",
    "\n",
    "# Create a Numpy array from list of numbers\n",
    "arr1D = np.array([4, 5, 6, 7, 8, 9, 10, 11])\n",
    "print(arr1D)\n",
    "# Delete element at index positions 1,2 and 3\n",
    "del1D = np.delete(arr1D, [1,2,3])\n",
    "print(del1D)\n",
    "\n",
    "arr2D = np.array([[1, 2, 3], [4, 5, 6]])\n",
    "print(arr2D)\n",
    "# Delete element at index positions 1,2 and 3\n",
    "del2D = np.delete(arr2D, 1, axis=1)\n",
    "print(del2D)\n",
    "\n",
    "#Append values to the end of an array.\n",
    "arri = np.array([[1, 2, 3], [4, 5, 6]])\n",
    "print(arri)\n",
    "arr = np.append(arri, [[7,8,9]], axis=0)\n",
    "print(arr)\n",
    "arr = np.append(arri, [[7],[8]], axis=1)\n",
    "print(arr)\n",
    "    "
   ]
  },
  {
   "cell_type": "code",
   "execution_count": 1,
   "metadata": {
    "colab": {
     "base_uri": "https://localhost:8080/"
    },
    "id": "ZKLfw8yET8pW",
    "outputId": "472ece6f-7e91-4ffa-c47f-e5a72a576344"
   },
   "outputs": [
    {
     "ename": "NameError",
     "evalue": "name 'np' is not defined",
     "output_type": "error",
     "traceback": [
      "\u001b[1;31m---------------------------------------------------------------------------\u001b[0m",
      "\u001b[1;31mNameError\u001b[0m                                 Traceback (most recent call last)",
      "\u001b[1;32m<ipython-input-1-66f72497dc40>\u001b[0m in \u001b[0;36m<module>\u001b[1;34m\u001b[0m\n\u001b[0;32m      1\u001b[0m \u001b[1;31m#array 3D\u001b[0m\u001b[1;33m\u001b[0m\u001b[1;33m\u001b[0m\u001b[1;33m\u001b[0m\u001b[0m\n\u001b[1;32m----> 2\u001b[1;33m \u001b[0md\u001b[0m \u001b[1;33m=\u001b[0m \u001b[0mnp\u001b[0m\u001b[1;33m.\u001b[0m\u001b[0marray\u001b[0m\u001b[1;33m(\u001b[0m\u001b[1;33m[\u001b[0m\u001b[1;33m[\u001b[0m\u001b[1;33m[\u001b[0m\u001b[1;36m1\u001b[0m\u001b[1;33m,\u001b[0m \u001b[1;36m2\u001b[0m\u001b[1;33m,\u001b[0m \u001b[1;36m3\u001b[0m\u001b[1;33m]\u001b[0m\u001b[1;33m,\u001b[0m \u001b[1;33m[\u001b[0m\u001b[1;36m4\u001b[0m\u001b[1;33m,\u001b[0m \u001b[1;36m5\u001b[0m\u001b[1;33m,\u001b[0m \u001b[1;36m6\u001b[0m\u001b[1;33m]\u001b[0m\u001b[1;33m]\u001b[0m\u001b[1;33m,\u001b[0m \u001b[1;33m[\u001b[0m\u001b[1;33m[\u001b[0m\u001b[1;36m3\u001b[0m\u001b[1;33m,\u001b[0m \u001b[1;36m4\u001b[0m\u001b[1;33m,\u001b[0m \u001b[1;36m0\u001b[0m\u001b[1;33m]\u001b[0m\u001b[1;33m,\u001b[0m \u001b[1;33m[\u001b[0m\u001b[1;36m9\u001b[0m\u001b[1;33m,\u001b[0m \u001b[1;36m8\u001b[0m\u001b[1;33m,\u001b[0m \u001b[1;36m7\u001b[0m\u001b[1;33m]\u001b[0m\u001b[1;33m]\u001b[0m\u001b[1;33m]\u001b[0m\u001b[1;33m)\u001b[0m\u001b[1;33m\u001b[0m\u001b[1;33m\u001b[0m\u001b[0m\n\u001b[0m\u001b[0;32m      3\u001b[0m \u001b[0mprint\u001b[0m \u001b[1;33m(\u001b[0m\u001b[1;34m\"La dimension de d es:\"\u001b[0m\u001b[1;33m,\u001b[0m \u001b[0md\u001b[0m\u001b[1;33m.\u001b[0m\u001b[0mndim\u001b[0m\u001b[1;33m)\u001b[0m\u001b[1;33m\u001b[0m\u001b[1;33m\u001b[0m\u001b[0m\n\u001b[0;32m      4\u001b[0m \u001b[1;33m\u001b[0m\u001b[0m\n\u001b[0;32m      5\u001b[0m \u001b[0marr1\u001b[0m \u001b[1;33m=\u001b[0m \u001b[0marr\u001b[0m\u001b[1;33m.\u001b[0m\u001b[0mreshape\u001b[0m\u001b[1;33m(\u001b[0m\u001b[1;36m3\u001b[0m\u001b[1;33m,\u001b[0m\u001b[1;36m2\u001b[0m\u001b[1;33m)\u001b[0m\u001b[1;33m\u001b[0m\u001b[1;33m\u001b[0m\u001b[0m\n",
      "\u001b[1;31mNameError\u001b[0m: name 'np' is not defined"
     ]
    }
   ],
   "source": [
    "#array 3D\n",
    "d = np.array([[[1, 2, 3], [4, 5, 6]], [[3, 4, 0], [9, 8, 7]]])\n",
    "print (\"La dimension de d es:\", d.ndim)\n",
    "\n",
    "arr1 = arr.reshape(3,2)\n",
    "print (\"arr1:\", arr1)\n",
    "print (\"La transpuesta de arr1 es\", arr1.T)"
   ]
  },
  {
   "cell_type": "code",
   "execution_count": null,
   "metadata": {
    "colab": {
     "base_uri": "https://localhost:8080/"
    },
    "id": "lsZ0GMuREck0",
    "outputId": "9a188b1c-cf74-447e-922a-5d55413cdeda"
   },
   "outputs": [
    {
     "name": "stdout",
     "output_type": "stream",
     "text": [
      "[-2  6 30]\n",
      "[-4  6 12]\n",
      "[ 1  4 25]\n"
     ]
    }
   ],
   "source": [
    "#operacion entre matrices\n",
    "a=np.array([-2, 3, 6])\n",
    "b=np.array([1, 2, 5])\n",
    "print (a*b)\n",
    "print (2*a)\n",
    "print (b**2)\n"
   ]
  },
  {
   "cell_type": "code",
   "execution_count": null,
   "metadata": {
    "colab": {
     "base_uri": "https://localhost:8080/"
    },
    "id": "nydFOc_XE8wx",
    "outputId": "daef1d71-f431-43f3-cbc8-30ea89241594"
   },
   "outputs": [
    {
     "data": {
      "text/plain": [
       "1"
      ]
     },
     "execution_count": 22,
     "metadata": {},
     "output_type": "execute_result"
    }
   ],
   "source": [
    "import numpy as np\n",
    "import random\n",
    "\n",
    "#otra forma de crear un array 1D con valores crecientes\n",
    "\n",
    "a = range(10) #crea un array con 10 elementos del 0 al 9\n",
    "for i in a: print(i)\n",
    "print(list(a))\n",
    "\n",
    "\n",
    "array = np.arange(10) #For integer arguments the function is equivalent to the Python built-in range function, but returns an ndarray rather than a list/iterator\n",
    "print(array)\n",
    "\n",
    "t1 = np.arange(5,11)\n",
    "print(t1)\n",
    "t2 = np.arange(0.0, 5.0, 0.1)\n",
    "print(t2)\n",
    "\n",
    "t3 = np.linspace(2,3,100) # an array with 100 points between (and including) 2 and 3\n",
    "print(t3)\n",
    "\n",
    "\n",
    "random.choice([1, 2, 3])\n",
    "random.choice([\"Cara\",\"Cruz\"])"
   ]
  },
  {
   "cell_type": "code",
   "execution_count": null,
   "metadata": {
    "colab": {
     "base_uri": "https://localhost:8080/"
    },
    "id": "mFCS12_hHMst",
    "outputId": "ee3f5a06-7402-4ffd-b8aa-e10fb1c50e8b"
   },
   "outputs": [
    {
     "name": "stdout",
     "output_type": "stream",
     "text": [
      "[ 0. -3. -4.  0.]\n",
      "-3\n",
      "[-25.]\n",
      "-25\n",
      "[-2.  2.]\n"
     ]
    }
   ],
   "source": [
    "import numpy as np\n",
    "#@title Polinomios y raíces\n",
    "#para evaluar polinomios (para usarlos como funcion), por ejemplo, \n",
    "#evaluar  x^2-4 en [-2,1,0,2] (nota: en este caso los coeficientes se escriben al revés\n",
    "result = np.polynomial.polynomial.polyval([-2,1,0,2], [-4,0,1])\n",
    "print(result)\n",
    "\n",
    "def evalFunc(x):\n",
    "  r = x**2-4\n",
    "  return r \n",
    "\n",
    "print(evalFunc(1))\n",
    "\n",
    "#1X^3-6X^2-12X-8\n",
    "f2 = np.polynomial.polynomial.polyval([1], [-8,-12,-6,1])\n",
    "print(f2)\n",
    "\n",
    "def evalFunc(x):\n",
    "  r = (x**3)-6*(x**2)-12*x-8\n",
    "  return r \n",
    "\n",
    "print(evalFunc(1))\n",
    "\n",
    "\n",
    "#Ejemplo: para sacar las raíces del polinomio x^2-4:\n",
    "r = np.roots([1,0,-4])\n",
    "print(r)\n"
   ]
  },
  {
   "cell_type": "code",
   "execution_count": null,
   "metadata": {
    "colab": {
     "base_uri": "https://localhost:8080/",
     "height": 1000
    },
    "id": "C7deCYjcL_PC",
    "outputId": "8b200d6b-4b30-49c9-bd60-d6bff04251a4"
   },
   "outputs": [
    {
     "data": {
      "image/png": "[encoded data removed]",
      "text/plain": [
       "<Figure size 432x432 with 1 Axes>"
      ]
     },
     "metadata": {
      "needs_background": "light"
     },
     "output_type": "display_data"
    },
    {
     "data": {
      "image/png": "[encoded data removed]",
      "text/plain": [
       "<Figure size 432x288 with 2 Axes>"
      ]
     },
     "metadata": {
      "needs_background": "light"
     },
     "output_type": "display_data"
    },
    {
     "data": {
      "image/png": "[encoded data removed]",
      "text/plain": [
       "<Figure size 432x432 with 1 Axes>"
      ]
     },
     "metadata": {
      "needs_background": "light"
     },
     "output_type": "display_data"
    }
   ],
   "source": [
    "#@title Gráficos\n",
    "'''\n",
    "Other options for the color characters are:\n",
    " 'r' = red\n",
    " 'g' = green\n",
    " 'b' = blue\n",
    " 'c' = cyan\n",
    " 'm' = magenta\n",
    " 'y' = yellow\n",
    " 'k' = black\n",
    " 'w' = white\n",
    "Options for line styles are\n",
    " '-' = solid\n",
    " '--' = dashed\n",
    " ':' = dotted\n",
    " '-.' = dot-dashed\n",
    " '.' = points\n",
    " 'o' = filled circles\n",
    " '^' = filled triangles\n",
    "'''\n",
    "\n",
    "import numpy as np\n",
    "import matplotlib.pyplot as plt\n",
    "\n",
    "##########################Example 1##################################\n",
    "x = np.array([1,2,3,4,5,6,7,8,9,10])\n",
    "y = x**2\n",
    "#ax = plt.subplot(111)\n",
    "fig, ax = plt.subplots(figsize=(6, 6))\n",
    "ax.set_xlabel('X Label')\n",
    "ax.set_ylabel('Y Label')\n",
    "ax.set_title('Example 1')\n",
    "ax.grid()\n",
    "ax.plot(x,y)\n",
    "plt.show()\n",
    "\n",
    "##########################Example 2##################################\n",
    "def f(t):\n",
    "    return np.exp(-t) * np.cos(2*np.pi*t)\n",
    "\n",
    "t1 = np.arange(0.0, 5.0, 0.1)\n",
    "t2 = np.arange(0.0, 5.0, 0.02)\n",
    "\n",
    "#plt.figure(1)\n",
    "#ax = plt.subplot(211)\n",
    "#plt.plot(t1, f(t1), 'bo') #t2, f(t2), 'k')\n",
    "fig, ax = plt.subplots(nrows=2, ncols=1)\n",
    "ax[0].set_title('Funcion f')\n",
    "ax[0].plot(t1, f(t1), 'bo')\n",
    "ax[0].legend('Data1')\n",
    "\n",
    "#ax = plt.subplot(212)\n",
    "#plt.plot(t2, np.cos(2*np.pi*t2), 'r--', label=\"Coseno\")\n",
    "#plt.legend(loc='lower right')\n",
    "ax[1].set_title('Coseno')\n",
    "ax[1].plot(t2, np.cos(2*np.pi*t2), 'r--', label=\"Coseno\")\n",
    "ax[1].legend('Data2')\n",
    "plt.show()\n",
    "\n",
    "\n",
    "##########################Example 3##################################\n",
    "\n",
    "# Fixing random state for reproducibility\n",
    "np.random.seed(19680801)\n",
    "\n",
    "dt = 0.01\n",
    "t = np.arange(0, 30, dt)\n",
    "nse1 = np.random.randn(len(t))                 # white noise 1\n",
    "nse2 = np.random.randn(len(t))                 # white noise 2\n",
    "\n",
    "# Two signals with a coherent part at 10Hz and a random part\n",
    "s1 = np.sin(2 * np.pi * 10 * t) + nse1\n",
    "s2 = np.sin(2 * np.pi * 10 * t) + nse2\n",
    "\n",
    "#axs = plt.subplot(111)\n",
    "#plt.plot(t, s1,label=\"Data1\", t, s2,label=\"Data2\")\n",
    "\n",
    "fig, ax = plt.subplots(figsize=(6, 6))\n",
    "ax.set_xlim(0, 2)\n",
    "ax.set_xlabel('time')\n",
    "ax.set_ylabel('s1 and s2')\n",
    "ax.grid(True)\n",
    "ax.plot(t, s1,label=\"Data1\")\n",
    "ax.plot(t, s2,label=\"Data2\")\n",
    "ax.legend(\"Legend\")\n",
    "plt.show()\n",
    "\n",
    "\n",
    "\n"
   ]
  },
  {
   "cell_type": "markdown",
   "metadata": {
    "id": "rVRhYaTmOY0a"
   },
   "source": [
    "#Paginas de referencia\n",
    "#https://matplotlib.org/gallery.html\n",
    "#http://www.numpy.org/"
   ]
  }
 ],
 "metadata": {
  "colab": {
   "collapsed_sections": [],
   "name": "IntroduccionPython.ipynb",
   "provenance": [],
   "toc_visible": true
  },
  "kernelspec": {
   "display_name": "Python 3",
   "language": "python",
   "name": "python3"
  },
  "language_info": {
   "codemirror_mode": {
    "name": "ipython",
    "version": 3
   },
   "file_extension": ".py",
   "mimetype": "text/x-python",
   "name": "python",
   "nbconvert_exporter": "python",
   "pygments_lexer": "ipython3",
   "version": "3.8.8"
  }
 },
 "nbformat": 4,
 "nbformat_minor": 1
}
