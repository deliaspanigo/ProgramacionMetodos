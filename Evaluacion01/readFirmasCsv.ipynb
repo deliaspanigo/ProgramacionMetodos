{
 "cells": [
  {
   "cell_type": "code",
   "execution_count": 2,
   "id": "a95401de",
   "metadata": {},
   "outputs": [
    {
     "name": "stdout",
     "output_type": "stream",
     "text": [
      "140\n",
      "490\n"
     ]
    }
   ],
   "source": [
    "import csv\n",
    "\n",
    "def fileCsv(filePath):\n",
    "    #data = []\n",
    "    longOnda = []\n",
    "    reflectancia = []\n",
    "    \n",
    "    f = open(filePath, 'r')\n",
    "    reader = csv.reader(f)\n",
    "    for row in reader:\n",
    "        #data.append(row)\n",
    "        if row[1].find(\",\") != -1:\n",
    "            row[1].replace(\",\",\".\")        \n",
    "        longOnda.append(int(row[0]))\n",
    "        reflectancia.append(float(row[1]))\n",
    "    f.close()\n",
    "\n",
    "    return longOnda, reflectancia #data \n",
    "\n",
    "filePath = \"Firma.csv\"  #direccion a donde se encuentra el archivo\n",
    "longOnda, reflectancia = fileCsv(filePath)\n",
    "#print(longOnda, reflectancia)\n",
    "print(longOnda.index(490))\n",
    "print(longOnda[140])"
   ]
  },
  {
   "cell_type": "code",
   "execution_count": null,
   "id": "868219bf",
   "metadata": {},
   "outputs": [],
   "source": []
  }
 ],
 "metadata": {
  "kernelspec": {
   "display_name": "Python 3 (ipykernel)",
   "language": "python",
   "name": "python3"
  },
  "language_info": {
   "codemirror_mode": {
    "name": "ipython",
    "version": 3
   },
   "file_extension": ".py",
   "mimetype": "text/x-python",
   "name": "python",
   "nbconvert_exporter": "python",
   "pygments_lexer": "ipython3",
   "version": "3.9.7"
  }
 },
 "nbformat": 4,
 "nbformat_minor": 5
}
