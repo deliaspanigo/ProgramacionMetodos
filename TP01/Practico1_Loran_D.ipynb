{
 "cells": [
  {
   "cell_type": "markdown",
   "id": "ca99380d",
   "metadata": {},
   "source": [
    "####\n",
    "Problema 1: Escribir una función que realice el promedio de tres números reales. ¿Cómo generalizarı́as\n",
    "esta función de modo tal que pueda calcular el promedio de una cantidad N arbitraria de números?"
   ]
  },
  {
   "cell_type": "code",
   "execution_count": 9,
   "id": "ddd1cf0f",
   "metadata": {},
   "outputs": [
    {
     "name": "stdout",
     "output_type": "stream",
     "text": [
      "2.0\n"
     ]
    }
   ],
   "source": [
    "# Promedio para 3 números enteros. Salida Print()\n",
    "\n",
    "def prom3val(n1, n2, n3): #def para que sea funcion. Parametros entre()\n",
    "    \n",
    "    prom=(n1+n2+n3)/3 \n",
    "    print(prom) #solo muestra el resultado no sirve para entrada de otro proceso\n",
    "\n",
    "\n",
    "#probamos la funcion\n",
    "prom3val(1, 2, 3) # la llamamos y cargamos parametros esto muestra\n"
   ]
  },
  {
   "cell_type": "code",
   "execution_count": 8,
   "id": "c0340008",
   "metadata": {},
   "outputs": [
    {
     "data": {
      "text/plain": [
       "2.0"
      ]
     },
     "execution_count": 8,
     "metadata": {},
     "output_type": "execute_result"
    }
   ],
   "source": [
    "# Promedio para 3 números enteros. Salida return (salida util para otro proceso o funcion)\n",
    "\n",
    "def prom3val(n1, n2, n3): #def para que sea funcion. Parametros entre()\n",
    "    \n",
    "    prom=(n1+n2+n3)/3 \n",
    "    return(prom) #genera una salida util para otro proceso\n",
    "\n",
    "#probamos la funcion\n",
    "a= prom3val(1, 2, 3) # esto usa el valor del return y asigna a a\n",
    "a"
   ]
  },
  {
   "cell_type": "code",
   "execution_count": 65,
   "id": "c86a1e58",
   "metadata": {},
   "outputs": [
    {
     "name": "stdout",
     "output_type": "stream",
     "text": [
      "Ingrese los valores separados por comas (use puntos para separador decimal)3.4,5.6,7.8\n"
     ]
    },
    {
     "data": {
      "text/plain": [
       "5.6000000000000005"
      ]
     },
     "execution_count": 65,
     "metadata": {},
     "output_type": "execute_result"
    }
   ],
   "source": [
    "# Promedio para n números enteros\n",
    "import numpy as npy\n",
    "\n",
    "\n",
    "def promNval(): \n",
    "    prelis=input(\"Ingrese los valores separados por comas (use puntos para separador decimal)\") #los valores se almacenan como texto\n",
    "    lis=npy.float_(prelis.split(\",\"))#pasar los valores a float\n",
    "    promN=sum(lis)/len(lis)\n",
    "    return(promN)\n",
    " \n",
    "\n",
    "#probando la función\n",
    "prom = promNval()\n",
    "prom"
   ]
  },
  {
   "cell_type": "markdown",
   "id": "24b23bf9",
   "metadata": {},
   "source": [
    "####\n",
    "Problema 2: Escribir un programa que pida dos números reales e imprima en la pantalla el mayor de\n",
    "ellos. El programa debe indicar si los números son iguales."
   ]
  },
  {
   "cell_type": "code",
   "execution_count": 21,
   "id": "b6d0b32f",
   "metadata": {},
   "outputs": [
    {
     "name": "stdout",
     "output_type": "stream",
     "text": [
      "Ingrese un número: 34\n",
      "Ingrese otro número: 54\n",
      "El mayor valor es  54\n"
     ]
    }
   ],
   "source": [
    "def maximo():\n",
    "\n",
    "    n1=input(\"Ingrese un número: \")\n",
    "    n2=input(\"Ingrese otro número: \")\n",
    "\n",
    "    if n1 == n2:\n",
    "        print(\"Ambos valores son iguales\")\n",
    "    \n",
    "    else:\n",
    "        print(\"El mayor valor es \", max(n1, n2))\n",
    "        \n",
    "#probamos la funcion\n",
    "maximo()"
   ]
  },
  {
   "cell_type": "markdown",
   "id": "606328a9",
   "metadata": {},
   "source": [
    "####\n",
    "Problema 3: Escribir un programa que pida un número entero y determine si es múltiplo de 2 y de 5."
   ]
  },
  {
   "cell_type": "code",
   "execution_count": 27,
   "id": "9cd4dbfb",
   "metadata": {},
   "outputs": [
    {
     "name": "stdout",
     "output_type": "stream",
     "text": [
      "Ingrese un número: 23\n",
      "El valor ingresado no es multiplo de 2 ni de 5\n"
     ]
    }
   ],
   "source": [
    "# Ingresar un valor\n",
    "valor=int(input(\"Ingrese un número: \"))\n",
    "\n",
    "if (valor%5) == 0:\n",
    "    print(\"El valor ingresado es multiplo de 5\")\n",
    "elif valor%2 == 0:\n",
    "    print(\"El valor ingresado es multiplo de 2\")\n",
    "else:\n",
    "    print(\"El valor ingresado no es multiplo de 2 ni de 5\")"
   ]
  },
  {
   "cell_type": "markdown",
   "id": "529ce88d",
   "metadata": {},
   "source": [
    "####\n",
    "Problema 4: Escriba un programa que ingrese los coeficientes A, B y C de un polinomio real de segundo\n",
    "grado (Ax^2 + Bx + C), calcule e imprima en pantalla las dos raı́ces del polinomio en formato complejo\n",
    "x + iy."
   ]
  },
  {
   "cell_type": "code",
   "execution_count": 29,
   "id": "9c9b0746",
   "metadata": {},
   "outputs": [
    {
     "name": "stdout",
     "output_type": "stream",
     "text": [
      "Ingrese el coeficiente A: 2\n",
      "Ingrese el coeficiente B: 2\n",
      "Ingrese el coeficiente C: 2\n",
      "Las raices de  f(x)=  2.0 x^2 + 2.0 x + 2.0 son: [-0.5+0.8660254j -0.5-0.8660254j]\n"
     ]
    }
   ],
   "source": [
    "# Ingresar los coeficientes A, B y C para f(x)=Ax^2 + Bx + C\n",
    "A=float(input(\"Ingrese el coeficiente A: \"))\n",
    "B=float(input(\"Ingrese el coeficiente B: \"))\n",
    "C=float(input(\"Ingrese el coeficiente C: \"))\n",
    "\n",
    "coeffx=[A, B, C]\n",
    "print(\"Las raices de  f(x)= \",A, \"x^2 +\", B, \"x +\",C, \"son:\", npy.roots(coeffx)) "
   ]
  },
  {
   "cell_type": "markdown",
   "id": "7264588d",
   "metadata": {},
   "source": [
    "####\n",
    "Problema 5: Escribir una función que calcule la potencia enésima de un número, es decir que devuelva\n",
    "X^n para X real y n entero. "
   ]
  },
  {
   "cell_type": "code",
   "execution_count": 72,
   "id": "43356139",
   "metadata": {},
   "outputs": [
    {
     "name": "stdout",
     "output_type": "stream",
     "text": [
      "Ingrese el valor X: 2\n",
      "Ingrese el valor N (exponente): 8\n"
     ]
    },
    {
     "data": {
      "text/plain": [
       "256.0"
      ]
     },
     "execution_count": 72,
     "metadata": {},
     "output_type": "execute_result"
    }
   ],
   "source": [
    "x=float(input(\"Ingrese el valor X: \"))\n",
    "n=int(input(\"Ingrese el valor N (exponente): \"))\n",
    "\n",
    "def elevador(x, n):\n",
    "    return(x**n)\n",
    "\n",
    "#probamos la funcion\n",
    "elevador(x,n)"
   ]
  },
  {
   "cell_type": "markdown",
   "id": "c06f1866",
   "metadata": {},
   "source": [
    "Realice un programa que utilice la función e imprima en pantalla las primeras\n",
    "5 potencias naturales del número ingresado."
   ]
  },
  {
   "cell_type": "code",
   "execution_count": 74,
   "id": "9d45f6d2",
   "metadata": {},
   "outputs": [
    {
     "name": "stdout",
     "output_type": "stream",
     "text": [
      "Ingrese el valor X: 2\n",
      "2.0\n",
      "4.0\n",
      "8.0\n",
      "16.0\n",
      "32.0\n"
     ]
    }
   ],
   "source": [
    "x=float(input(\"Ingrese el valor X: \"))\n",
    "\n",
    "for i in range(5):\n",
    "    n=1+i\n",
    "    xn=elevador(x,n)\n",
    "    print(xn)\n"
   ]
  },
  {
   "cell_type": "markdown",
   "id": "2307c489",
   "metadata": {},
   "source": [
    "####\n",
    "Problema 6: Escribir un programa para calcular un valor aproximado de π utilizando la productoria de\n",
    "Wallis:"
   ]
  },
  {
   "cell_type": "code",
   "execution_count": 81,
   "id": "d2472f9e",
   "metadata": {},
   "outputs": [
    {
     "data": {
      "text/plain": [
       "3.141584799657247"
      ]
     },
     "execution_count": 81,
     "metadata": {},
     "output_type": "execute_result"
    }
   ],
   "source": [
    "nint=100000 #numero de interacciones\n",
    "\n",
    "pr=1\n",
    "for i in range(nint):\n",
    "    pr=(((2*(i+1))**2)/((2*(i+1))**2-1))*pr\n",
    "\n",
    "    pi=2*pr\n",
    "\n",
    "pi"
   ]
  },
  {
   "cell_type": "markdown",
   "id": "d649be5e",
   "metadata": {},
   "source": [
    "####\n",
    "Problema 7: En el área satelital, usualmente se utiliza el calendario llamado dı́a del año (day of year o\n",
    "DOY en inglés). Este sistema calendario consiste en enumerar los dı́as del año secuencialmente, comen-\n",
    "zando por el 1 de enero cuyo DOY es 1.\n",
    "a) Realice un programa que, ingresando un dı́a, mes y año, nos diga a qué DOY corresponde.\n",
    "\n",
    "Ayuda: recuerde que algunos años son bisiestos!"
   ]
  },
  {
   "cell_type": "code",
   "execution_count": 111,
   "id": "2219c1b5",
   "metadata": {},
   "outputs": [
    {
     "name": "stdout",
     "output_type": "stream",
     "text": [
      "Ingrese el día: 30\n",
      "Ingrese el mes: 12\n",
      "Ingrese el año (aaaa): 1999\n",
      "fecha de Interés:  1999-12-30 00:00:00 \n",
      " DOY 363 days, 0:00:00\n"
     ]
    }
   ],
   "source": [
    "from datetime import date, timedelta \n",
    "from datetime import datetime\n",
    "\n",
    "dia=int(input(\"Ingrese el día: \"))\n",
    "mes=int(input(\"Ingrese el mes: \"))\n",
    "anio=int(input(\"Ingrese el año (aaaa): \"))\n",
    "\n",
    "fecha = datetime(anio, mes, dia)\n",
    "\n",
    "fecha0 = datetime(anio, 1, 1)\n",
    "\n",
    "DOY=fecha-fecha0\n",
    "\n",
    "print(\n",
    "\"fecha de Interés: \",fecha, '\\n',\n",
    "\"DOY\", DOY)"
   ]
  },
  {
   "cell_type": "markdown",
   "id": "a33599da",
   "metadata": {},
   "source": [
    "b) Inversamente, realice otro programa que tome como entrada el DOY y el año y reporte a qué dı́a\n",
    "y mes calendario corresponde."
   ]
  },
  {
   "cell_type": "code",
   "execution_count": 109,
   "id": "98ac303a",
   "metadata": {},
   "outputs": [
    {
     "name": "stdout",
     "output_type": "stream",
     "text": [
      "Ingrese el dia juliano: 364\n",
      "Ingrese el año (aaaa): 1999\n",
      "fecha del dia juliano:  1999-12-31 00:00:00\n"
     ]
    }
   ],
   "source": [
    "from datetime import timedelta, datetime\n",
    "DOY=int(input(\"Ingrese el dia juliano: \"))\n",
    "anio=int(input(\"Ingrese el año (aaaa): \"))\n",
    "DOYf=timedelta(days=DOY)\n",
    "\n",
    "fecha0 = datetime(anio, 1, 1)\n",
    "fecha = fecha0 + DOYf\n",
    "\n",
    "\n",
    "print(\"fecha del dia juliano: \",fecha)"
   ]
  },
  {
   "cell_type": "markdown",
   "id": "b2bd8f64",
   "metadata": {},
   "source": [
    "####\n",
    "Problema 8: Escribir un programa que permita calcular el área que está bajo la curva f (x) = x^2 en el\n",
    "intervalo I = [0, 1]. Para ello, divida el intervalo I en N partes iguales y aproxime el área total como la\n",
    "suma de cada una de las N áreas pequeñas. Calcule el resultado para varios valores de N ."
   ]
  },
  {
   "cell_type": "code",
   "execution_count": 46,
   "id": "51e87462",
   "metadata": {},
   "outputs": [
    {
     "name": "stdout",
     "output_type": "stream",
     "text": [
      " area1= 0.24000000000000005 \n",
      " area2= 0.2850000000000001 \n",
      " area3= 0.3087500000000001 \n",
      " area3= 0.33283349999999995 \n",
      " areaI= 0.3333333333333333\n"
     ]
    }
   ],
   "source": [
    "# Con intervalos de 0.2\n",
    "i1=0.2\n",
    "x1=npy.arange(0, 1, i1)\n",
    "y1=x1**2\n",
    "area1=sum(y1)*i1\n",
    "\n",
    "# Con intervalos de 0.1\n",
    "i2=0.1\n",
    "x2=npy.arange(0, 1, i2)\n",
    "y2=x2**2\n",
    "area2=sum(y2)*i2\n",
    "\n",
    "# Con intervalos de 0.05\n",
    "i3=0.05\n",
    "x3=npy.arange(0, 1, i3)\n",
    "y3=x3**2\n",
    "area3=sum(y3)*i3\n",
    "\n",
    "\n",
    "# Con intervalos de 0.05\n",
    "i4=0.001\n",
    "x4=npy.arange(0, 1, i4)\n",
    "y4=x4**2\n",
    "area4=sum(y4)*i4\n",
    "\n",
    "\n",
    "# según integral x^3/3\n",
    "areaI=((1**3)/3)-((0**3)/3)\n",
    "\n",
    "print(\" area1=\",area1, \"\\n\",\n",
    "\"area2=\",area2, \"\\n\",\n",
    "\"area3=\",area3, \"\\n\",\n",
    "\"area3=\",area4, \"\\n\",\n",
    "\"areaI=\",areaI)"
   ]
  }
 ],
 "metadata": {
  "kernelspec": {
   "display_name": "Python 3 (ipykernel)",
   "language": "python",
   "name": "python3"
  },
  "language_info": {
   "codemirror_mode": {
    "name": "ipython",
    "version": 3
   },
   "file_extension": ".py",
   "mimetype": "text/x-python",
   "name": "python",
   "nbconvert_exporter": "python",
   "pygments_lexer": "ipython3",
   "version": "3.9.7"
  }
 },
 "nbformat": 4,
 "nbformat_minor": 5
}
