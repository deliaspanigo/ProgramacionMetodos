{
 "cells": [
  {
   "cell_type": "markdown",
   "id": "1ea37261",
   "metadata": {},
   "source": [
    "Trabajo Pr´actico N◦0"
   ]
  },
  {
   "cell_type": "markdown",
   "id": "7ae4878f",
   "metadata": {},
   "source": [
    "Enunciado Problema 1: Evaluar en papel y lápiz y luego verificar en Python las siguientes expresiones:\n",
    "\n",
    "a) Discutir el resultado de las siguientes operaciones: 6/2(2+1) y 6÷2(2+1) y 8 : 2(2+2) y verificarlas\n",
    "con la cabeza, con calculadora y Python.\n",
    "b) 4 * 6 / 2 - 15 / 2\n",
    "c) 5 * 15 / 2 / (4 - 2)\n",
    "d) 8 == 16 or 7 != 4 and 4 < 1\n",
    "e) (6 < 4 * 3 and 3 >5 - 2) and 3 + 2 < 12\n",
    "\n"
   ]
  },
  {
   "cell_type": "code",
   "execution_count": null,
   "id": "87bb0074",
   "metadata": {},
   "outputs": [],
   "source": [
    "Vamos con cada uno de los puntos."
   ]
  },
  {
   "cell_type": "markdown",
   "id": "3681d3ed",
   "metadata": {},
   "source": [
    "a) Discutir el resultado de las siguientes operaciones: 6/2(2+1) y 6÷2(2+1) y 8 : 2(2+2) y verificarlas\n",
    "con la cabeza, con calculadora y Python.\n",
    "\n",
    "En papel:"
   ]
  },
  {
   "cell_type": "markdown",
   "id": "3bbe15ec",
   "metadata": {},
   "source": [
    "El caso 1 es: 6/2(2+1)"
   ]
  },
  {
   "cell_type": "markdown",
   "id": "858c6dd9",
   "metadata": {},
   "source": [
    "No tiene sentido. Así como está escrito da error. Hay que agregarle el signo de multiplicación para que Python lo entienda."
   ]
  },
  {
   "cell_type": "code",
   "execution_count": 10,
   "id": "ff7cbe94",
   "metadata": {},
   "outputs": [
    {
     "data": {
      "text/plain": [
       "9.0"
      ]
     },
     "execution_count": 10,
     "metadata": {},
     "output_type": "execute_result"
    }
   ],
   "source": [
    "6/2*(2+1)"
   ]
  },
  {
   "cell_type": "markdown",
   "id": "2ed895b7",
   "metadata": {},
   "source": [
    "Ahora, para entender cómo Python está trabajando, vamos a agregar paréntesis en diferentes lados."
   ]
  },
  {
   "cell_type": "code",
   "execution_count": 31,
   "id": "562e908c",
   "metadata": {},
   "outputs": [
    {
     "data": {
      "text/plain": [
       "1.0"
      ]
     },
     "execution_count": 31,
     "metadata": {},
     "output_type": "execute_result"
    }
   ],
   "source": [
    "# Forma 1\n",
    "6/(2*(2+1))"
   ]
  },
  {
   "cell_type": "code",
   "execution_count": 9,
   "id": "48f279ab",
   "metadata": {},
   "outputs": [
    {
     "data": {
      "text/plain": [
       "9.0"
      ]
     },
     "execution_count": 9,
     "metadata": {},
     "output_type": "execute_result"
    }
   ],
   "source": [
    "# Forma 2\n",
    "(6/2)*(2+1)"
   ]
  },
  {
   "cell_type": "markdown",
   "id": "63b29eeb",
   "metadata": {},
   "source": [
    "Entonces, Python está tomando de izquierda a derecha la sucesión de operaciones."
   ]
  },
  {
   "cell_type": "markdown",
   "id": "68ee86fe",
   "metadata": {},
   "source": [
    "El caso 2 es: 6÷2(2+1)"
   ]
  },
  {
   "cell_type": "code",
   "execution_count": 13,
   "id": "a79ca01a",
   "metadata": {},
   "outputs": [
    {
     "ename": "SyntaxError",
     "evalue": "invalid character in identifier (<ipython-input-13-9c5a3e18e0b8>, line 2)",
     "output_type": "error",
     "traceback": [
      "\u001b[1;36m  File \u001b[1;32m\"<ipython-input-13-9c5a3e18e0b8>\"\u001b[1;36m, line \u001b[1;32m2\u001b[0m\n\u001b[1;33m    6÷2(2+1)\u001b[0m\n\u001b[1;37m      ^\u001b[0m\n\u001b[1;31mSyntaxError\u001b[0m\u001b[1;31m:\u001b[0m invalid character in identifier\n"
     ]
    }
   ],
   "source": [
    "# Caso 2\n",
    "6÷2(2+1)"
   ]
  },
  {
   "cell_type": "code",
   "execution_count": null,
   "id": "b232c363",
   "metadata": {},
   "outputs": [],
   "source": [
    "Sucede que el signo \"÷\" no es utilizado dentro de Python para determinar a la división."
   ]
  },
  {
   "cell_type": "markdown",
   "id": "792e7f3b",
   "metadata": {},
   "source": [
    "El caso 3 es: 8 : 2(2+2)"
   ]
  },
  {
   "cell_type": "code",
   "execution_count": 14,
   "id": "c694a18b",
   "metadata": {},
   "outputs": [
    {
     "ename": "SyntaxError",
     "evalue": "illegal target for annotation (<ipython-input-14-b4f9f1f8e7f2>, line 1)",
     "output_type": "error",
     "traceback": [
      "\u001b[1;36m  File \u001b[1;32m\"<ipython-input-14-b4f9f1f8e7f2>\"\u001b[1;36m, line \u001b[1;32m1\u001b[0m\n\u001b[1;33m    8 : 2(2+2)\u001b[0m\n\u001b[1;37m    ^\u001b[0m\n\u001b[1;31mSyntaxError\u001b[0m\u001b[1;31m:\u001b[0m illegal target for annotation\n"
     ]
    }
   ],
   "source": [
    "8 : 2(2+2)"
   ]
  },
  {
   "cell_type": "markdown",
   "id": "c7e72452",
   "metadata": {},
   "source": [
    "Así como está, da error. Hay que quitar los espacios, agregar el signo de multiplicación y la división no es detallada con \":\"."
   ]
  },
  {
   "cell_type": "code",
   "execution_count": 18,
   "id": "617f103c",
   "metadata": {},
   "outputs": [
    {
     "ename": "SyntaxError",
     "evalue": "invalid syntax (<ipython-input-18-64c401182b23>, line 1)",
     "output_type": "error",
     "traceback": [
      "\u001b[1;36m  File \u001b[1;32m\"<ipython-input-18-64c401182b23>\"\u001b[1;36m, line \u001b[1;32m1\u001b[0m\n\u001b[1;33m    (8:2)*(2+2)\u001b[0m\n\u001b[1;37m      ^\u001b[0m\n\u001b[1;31mSyntaxError\u001b[0m\u001b[1;31m:\u001b[0m invalid syntax\n"
     ]
    }
   ],
   "source": [
    "(8:2)*(2+2)"
   ]
  },
  {
   "cell_type": "code",
   "execution_count": 19,
   "id": "87390e7d",
   "metadata": {},
   "outputs": [
    {
     "data": {
      "text/plain": [
       "16.0"
      ]
     },
     "execution_count": 19,
     "metadata": {},
     "output_type": "execute_result"
    }
   ],
   "source": [
    "(8/2)*(2+2)"
   ]
  },
  {
   "cell_type": "markdown",
   "id": "a70f19d8",
   "metadata": {},
   "source": [
    "b) 4 * 6 / 2 - 15 / 2"
   ]
  },
  {
   "cell_type": "code",
   "execution_count": 26,
   "id": "1255d46a",
   "metadata": {},
   "outputs": [
    {
     "data": {
      "text/plain": [
       "4.5"
      ]
     },
     "execution_count": 26,
     "metadata": {},
     "output_type": "execute_result"
    }
   ],
   "source": [
    "4 * 6 / 2 - 15 / 2"
   ]
  },
  {
   "cell_type": "markdown",
   "id": "595d7ed3",
   "metadata": {},
   "source": [
    "Al parecer la sentencia separa términos por el signo + o -, y dentro de cada término va de izquierda a derecha con lo que sea que salga de multiplicación y división."
   ]
  },
  {
   "cell_type": "code",
   "execution_count": 30,
   "id": "f0c17252",
   "metadata": {},
   "outputs": [
    {
     "data": {
      "text/plain": [
       "4.5"
      ]
     },
     "execution_count": 30,
     "metadata": {},
     "output_type": "execute_result"
    }
   ],
   "source": [
    "((4 * 6) / 2) - (15 / 2)"
   ]
  },
  {
   "cell_type": "markdown",
   "id": "27e6bd70",
   "metadata": {},
   "source": []
  },
  {
   "cell_type": "markdown",
   "id": "2478e0c0",
   "metadata": {},
   "source": [
    "d) 8 == 16 or 7 != 4 and 4 < 1"
   ]
  },
  {
   "cell_type": "code",
   "execution_count": 32,
   "id": "a73ea4c7",
   "metadata": {},
   "outputs": [
    {
     "data": {
      "text/plain": [
       "False"
      ]
     },
     "execution_count": 32,
     "metadata": {},
     "output_type": "execute_result"
    }
   ],
   "source": [
    "8 == 16 or 7 != 4 and 4 < 1"
   ]
  },
  {
   "cell_type": "code",
   "execution_count": null,
   "id": "02f775c1",
   "metadata": {},
   "outputs": [],
   "source": [
    "e) (6 < 4 * 3 and 3 >5 - 2) and 3 + 2 < 12"
   ]
  },
  {
   "cell_type": "code",
   "execution_count": 33,
   "id": "9a3dff01",
   "metadata": {},
   "outputs": [
    {
     "data": {
      "text/plain": [
       "False"
      ]
     },
     "execution_count": 33,
     "metadata": {},
     "output_type": "execute_result"
    }
   ],
   "source": [
    "(6 < 4 * 3 and 3 >5 - 2) and 3 + 2 < 12"
   ]
  },
  {
   "cell_type": "code",
   "execution_count": null,
   "id": "bd702926",
   "metadata": {},
   "outputs": [],
   "source": []
  }
 ],
 "metadata": {
  "kernelspec": {
   "display_name": "Python 3",
   "language": "python",
   "name": "python3"
  },
  "language_info": {
   "codemirror_mode": {
    "name": "ipython",
    "version": 3
   },
   "file_extension": ".py",
   "mimetype": "text/x-python",
   "name": "python",
   "nbconvert_exporter": "python",
   "pygments_lexer": "ipython3",
   "version": "3.8.8"
  }
 },
 "nbformat": 4,
 "nbformat_minor": 5
}
