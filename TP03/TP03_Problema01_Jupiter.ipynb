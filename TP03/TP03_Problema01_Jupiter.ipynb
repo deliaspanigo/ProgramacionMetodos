{
 "cells": [
  {
   "cell_type": "markdown",
   "metadata": {},
   "source": [
    "Problema 1: Considera la siguiente ecuacion diferencial ordinaria (EDO) de primer orden:\n",
    "\\\n",
    "\\\n",
    "$\\dot{N} (t) = αN(t)$,       $N(0) = N(0)$"
   ]
  },
  {
   "cell_type": "markdown",
   "metadata": {},
   "source": [
    "a) ¿Que comportamiento modela? ¿Cual es su dominio de definicion? Describi el significado \n",
    "del parametro $\\alpha$ consideria su signo, y que representa el valor $N_{0}$?"
   ]
  },
  {
   "cell_type": "markdown",
   "metadata": {},
   "source": [
    "$\\dot{N} (t) = αN(t)$\n",
    "\n",
    "$\\frac{dN(t)}{dt} = αN(t)$\n",
    "\n",
    "$\\frac{dN(t)}{dt} = αN(t)$\n",
    "\n",
    "$\\frac{dN(t)}{N(t)} = αdt$\n",
    "\n",
    "$\\frac{1}{N(t)}dN(t) = αdt$\n",
    "\n",
    "$\\int\\frac{1}{N(t)}dN(t) = \\intαdt$\n",
    "\n",
    "$\\int\\frac{1}{N(t)}dN(t) = α\\int dt$\n",
    "\n",
    "$ln (N(t)) + c_1= αt + c_2$\n",
    "\n",
    "$ln (N(t)) = αt + c_2 - c_1$\n",
    "\n",
    "$ln (N(t)) = αt + c_3$\n",
    "\n",
    "$e^{ln (N(t))}= e^{αt + c_3}$\n",
    "\n",
    "$N(t) = e^{αt+ c_3}$\n",
    "\n",
    "$N(t) = e^{αt} * e^{c_3}$\n",
    "\n",
    "$N(t) = e^{αt} * c_4$\n",
    "\n",
    "Para $t=0$ se tiene $N(0) = N_{0}$\n",
    "\n",
    "Emplazando en la ecuación anterior:\n",
    "$N(t) = e^{αt} * c_4$\n",
    "$N(0) = e^{α0} * c_4$\n",
    "$N(0) = e^{0} * c_4$\n",
    "$N(0) = 1 * c_4$\n",
    "$N(0) = c_4$\n",
    "\n",
    "Como $N(0) = N_{0} por definición, y la ecuación anterior llega a que $N(0) = c_4$ \n",
    "\\\n",
    "entonces $c_4 = N(0) = N_{0}$\n",
    "\n",
    "Si reemplazamos en la ecuación $c_4$ por $N_{0}$ en la ecuación:\n",
    "\\\n",
    "$N(t) = e^{αt} * c_4$\n",
    "\n",
    "$N(t) = e^{αt} * N_{0}$\n",
    "\n",
    "Y esta es finalmente la ecuacuón de N.\n",
    "\n"
   ]
  },
  {
   "cell_type": "markdown",
   "metadata": {},
   "source": [
    "# b) Realiza un analisis grafico para determinar si existen puntos crıticos y de que tipo son."
   ]
  },
  {
   "cell_type": "code",
   "execution_count": 51,
   "metadata": {},
   "outputs": [],
   "source": [
    "# Establecemos valores generales\n",
    "decimales = 4\n",
    "alfa = 2.3 # Tasa de crecimiento instantanea\n",
    "N0 = 1\n",
    "\n",
    "\n"
   ]
  },
  {
   "cell_type": "code",
   "execution_count": null,
   "metadata": {},
   "outputs": [],
   "source": []
  }
 ],
 "metadata": {
  "interpreter": {
   "hash": "aa47da589827374d2e473fd5e6bff348de257f1a60cff57b9ddda342648ea462"
  },
  "kernelspec": {
   "display_name": "Python 3.8.8 ('base')",
   "language": "python",
   "name": "python3"
  },
  "language_info": {
   "codemirror_mode": {
    "name": "ipython",
    "version": 3
   },
   "file_extension": ".py",
   "mimetype": "text/x-python",
   "name": "python",
   "nbconvert_exporter": "python",
   "pygments_lexer": "ipython3",
   "version": "3.8.8"
  },
  "orig_nbformat": 4
 },
 "nbformat": 4,
 "nbformat_minor": 2
}
