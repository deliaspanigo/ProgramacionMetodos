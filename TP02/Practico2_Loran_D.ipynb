{
 "cells": [
  {
   "cell_type": "markdown",
   "id": "423e3518",
   "metadata": {},
   "source": [
    "Problema 1: Desarrolle una función para encontrar la raı́z de una función f utilizando el método de la\n",
    "bisección. Los datos de entrada deberán ser:"
   ]
  },
  {
   "cell_type": "code",
   "execution_count": 1,
   "id": "3322f6e4",
   "metadata": {},
   "outputs": [
    {
     "name": "stdout",
     "output_type": "stream",
     "text": [
      "ingrese el inicio del intervalo: 0\n",
      "ingrese el final del intervalo: 2\n",
      "ingrese la tolerancia deseada: 0.01\n",
      "Eureka\n",
      "Raíz exacta en  1.0\n"
     ]
    },
    {
     "data": {
      "text/plain": [
       "1.0"
      ]
     },
     "execution_count": 1,
     "metadata": {},
     "output_type": "execute_result"
    }
   ],
   "source": [
    "def fn(x):\n",
    "    return (x**2)-1 #Ingresar la funcion\n",
    "\n",
    "def rootBis(f):\n",
    "    a=float(input(\"ingrese el inicio del intervalo: \"))\n",
    "    b=float(input(\"ingrese el final del intervalo: \"))\n",
    "    tol=float(input(\"ingrese la tolerancia deseada: \"))\n",
    "    evalu=100\n",
    "    \n",
    "    while evalu>=tol:\n",
    "        c=(a+b)/2\n",
    "        fa=f(a)\n",
    "        fb=f(b)\n",
    "        fc=f(c)\n",
    "        \n",
    "        if (fa*fc)<0:\n",
    "            a=a\n",
    "            b=c\n",
    "            \n",
    "        elif (fb*fc)<0:\n",
    "            a=c\n",
    "            b=b\n",
    "            \n",
    "        elif fc==0:\n",
    "            print(\"Eureka\")\n",
    "            print(\"Raíz exacta en \", c)\n",
    "            return c\n",
    "            \n",
    "        else:\n",
    "            print(\"Hay algo que va mal, verifique que haya una sola raiz en el intervalo\")\n",
    "            \n",
    "        evalu=abs(f(c))\n",
    "    \n",
    "    print(\"Raíz aproximada en \", c, \"  Tolerancia en \", tol)\n",
    "\n",
    "rootBis(fn)"
   ]
  },
  {
   "cell_type": "markdown",
   "id": "d7e368d9",
   "metadata": {},
   "source": [
    "####\n",
    "Problema 2: Encontrá la intersección de estas dos funciones:\n",
    "y1 =(x^2 + 1)^1/2 \n",
    "y2 = tan(x), 0 ≤ x ≤ π/2.\n",
    "Utilizá el método de la bisección (el programa del Ejercicio 1), hasta alcanzar una estimación de la\n",
    "solución r, con una tolerancia de 0,0001. Presentá una tabla con los siguientes valores: n (número de la\n",
    "iteración), a n (extremo inferior del intervalo), b n (extremo superior del intervalo), c n (estimación de la\n",
    "raı́z), f (a n ), f (b n ) y f (c n ).\"\""
   ]
  },
  {
   "cell_type": "code",
   "execution_count": 7,
   "id": "ae486014",
   "metadata": {},
   "outputs": [
    {
     "data": {
      "text/plain": [
       "<matplotlib.legend.Legend at 0x7f724e1e1d60>"
      ]
     },
     "execution_count": 7,
     "metadata": {},
     "output_type": "execute_result"
    },
    {
     "data": {
      "image/png": "[encoded data removed]",
      "text/plain": [
       "<Figure size 1152x432 with 1 Axes>"
      ]
     },
     "metadata": {
      "needs_background": "light"
     },
     "output_type": "display_data"
    }
   ],
   "source": [
    "import numpy as npy\n",
    "import matplotlib.pyplot as plt\n",
    "\n",
    "#Graficar las funciones para entenderla mejor\n",
    "\n",
    "def fn1(x):\n",
    "    return (x**2 + 1)**(1/2) #Ingresar la funcion 1\n",
    "\n",
    "def fn2(x):\n",
    "    import numpy as npy\n",
    "    return npy.tan(x) #Ingresar la funcion 2\n",
    "\n",
    "\n",
    "x= npy.arange(0, 1.3, 0.01)\n",
    "y1=fn1(x)\n",
    "y2=fn2(x)\n",
    "\n",
    "fig, ax = plt.subplots(figsize=(16, 6))\n",
    "ax.set_xlabel('X')\n",
    "ax.set_ylabel('Y')\n",
    "ax.set_title('Gráfico de la Función')\n",
    "ax.grid()\n",
    "ax.plot(x, y1, label=\"(x^2 + 1)^1/2\")\n",
    "ax.plot(x,y2, label= \"y = tan(x) - x + 1\")\n",
    "ax.legend()"
   ]
  },
  {
   "cell_type": "code",
   "execution_count": 8,
   "id": "b7db8062",
   "metadata": {},
   "outputs": [
    {
     "name": "stdout",
     "output_type": "stream",
     "text": [
      "ingrese el inicio del intervalo: 0\n",
      "ingrese el final del intervalo: 1.3\n",
      "ingrese la tolerancia deseada: 0.01\n",
      "Intersección aproximada en  0.94453125   Tolerancia en  0.01\n"
     ]
    }
   ],
   "source": [
    "def fn1(x):\n",
    "    return (x**2 + 1)**(1/2) #Ingresar la funcion 1\n",
    "\n",
    "def fn2(x):\n",
    "    import numpy as npy\n",
    "    return npy.tan(x) #Ingresar la funcion 2\n",
    "\n",
    "def intersBis(f1, f2): #la funcion requiere del ingreso de dos funciones al llamarla se le dice cual es f1 y f2\n",
    "    a=float(input(\"ingrese el inicio del intervalo: \"))\n",
    "    b=float(input(\"ingrese el final del intervalo: \"))\n",
    "    tol=float(input(\"ingrese la tolerancia deseada: \"))\n",
    "    \n",
    "    evalu=1 #inicialización de la variable de evaluacion de la presición\n",
    "    \n",
    "    while evalu>=tol:\n",
    "        c=(a+b)/2\n",
    "        f1a=f1(a) #valor de la f1 en a\n",
    "        f1b=f1(b)\n",
    "        f1c=f1(c)\n",
    "        \n",
    "        f2a=f2(a) #valor de la f2 en a\n",
    "        f2b=f2(b)\n",
    "        f2c=f2(c)\n",
    "        \n",
    "        if (f1a-f2a)*(f1c-f2c)<0: # ver si se cruzan en el intervalo a-c\n",
    "            a=a\n",
    "            b=c\n",
    "            \n",
    "        elif (f1b-f2b)*(f1c-f2c)<0: # ver si se cruzan en el intervalo b-c\n",
    "            a=c\n",
    "            b=b\n",
    "            \n",
    "        elif (f1c-f2c)==0: # ver si se cruzan justo en c\n",
    "            print(\"Eureka\")\n",
    "            print(\"Intersección en \", c)\n",
    "            return c # Este return hace que salga del bucle en caso de evaluar con tamaño de tramo en lugar del f(x) \n",
    "            \n",
    "        else:\n",
    "            print(\"Hay algo que va mal, verifique que haya intersección en el intervalo\") # si no se cumple ninguna de las anteriores algo está mal en el intervalo elegido\n",
    "            \n",
    "        evalu=abs(f1(c)-f2(c)) # se evalua la diferencia entre el valor de ambas funciones, para comparar con la tolerancia\n",
    "    \n",
    "    print(\"Intersección aproximada en \", c, \"  Tolerancia en \", tol)\n",
    "\n",
    "intersBis(fn1, fn2) # al llamar la función recien es necesario asignar el nombre de funciones existentes"
   ]
  },
  {
   "cell_type": "markdown",
   "id": "1f7c86a4",
   "metadata": {},
   "source": [
    "Problema 3: Utilizando el método de la bisección encontrá las soluciones positivas de las siguientes\n",
    "ecuaciones:\n",
    "(a) tan(x) − x + 1 = 0, 0 < x < 3π"
   ]
  },
  {
   "cell_type": "markdown",
   "id": "cd0f96eb",
   "metadata": {},
   "source": [
    "El problema 3 se encaró en la siguiente secuencia:\n",
    "1. Graficar la funcion para entenderla mejor.\n",
    "2. Detectar los valores de x donde se dan minimos y maximos. Ingresarlos en una lista\n",
    "3. Sumarle a la lista los valores de inicio y fin del intervalo de interes. Esto constituyen los limites de los tramos a evaluar.\n",
    "4. verificar entre que los limites de los tramos haya un cambio de signo en la Fn(x)\n",
    "5. verificar que al reducir el tramo los valores de fn(x) se aproximan. esto para descartar limites al +-infinito.\n",
    "6. con los tramos restantes obtener las raices."
   ]
  },
  {
   "cell_type": "code",
   "execution_count": 61,
   "id": "89035512",
   "metadata": {},
   "outputs": [
    {
     "data": {
      "text/plain": [
       "<matplotlib.legend.Legend at 0x7f724d259ee0>"
      ]
     },
     "execution_count": 61,
     "metadata": {},
     "output_type": "execute_result"
    },
    {
     "data": {
      "image/png": "[encoded data removed]",
      "text/plain": [
       "<Figure size 1152x432 with 1 Axes>"
      ]
     },
     "metadata": {
      "needs_background": "light"
     },
     "output_type": "display_data"
    }
   ],
   "source": [
    "import numpy as npy\n",
    "import matplotlib.pyplot as plt\n",
    "\n",
    "#Graficar la funcion para entenderla mejor\n",
    "\n",
    "def fn3(x):\n",
    "    import numpy as npy\n",
    "    return npy.tan(x) - x + 1\n",
    "\n",
    "\n",
    "x= npy.arange(0, 3*npy.pi, 0.0\n",
    "              1)\n",
    "y3=fn3(x)\n",
    "\n",
    "fig, ax = plt.subplots(figsize=(16, 6))\n",
    "\n",
    "#lineas1 = npy.arange(min(x), max(x), 1)\n",
    "lineasx = npy.arange(min(x), max(x), 0.5)\n",
    "\n",
    "#ax.set_yticks(lineas1)\n",
    "#ax.set_yticks(lineas1, minor=True)\n",
    "ax.set_xticks(lineasx)\n",
    "ax.set_xticks(lineasx, minor=True)\n",
    "ax.grid()\n",
    "ax.set_xlabel('X')\n",
    "ax.set_ylabel('Y')\n",
    "ax.set_title('Gráfico de la Función')\n",
    "ax.plot(x,y3, label= \"y = tan(x) - x + 1\")\n",
    "ax.legend()"
   ]
  },
  {
   "cell_type": "code",
   "execution_count": 16,
   "id": "b137aacb",
   "metadata": {},
   "outputs": [
    {
     "name": "stdout",
     "output_type": "stream",
     "text": [
      "Ingrese un limite del intervalo a analizar: 0\n",
      "Ingrese otro limite del intervalo a analizar: 9.5\n",
      "Ingrese la precición deseada en valores de x: 0.01\n",
      "Máx o Mín en:  [1.5700000000000012, 1.5800000000000012, 4.709999999999944, 4.719999999999944, 7.849999999999877, 7.859999999999877]\n"
     ]
    },
    {
     "data": {
      "text/plain": [
       "[1.5700000000000012,\n",
       " 1.5800000000000012,\n",
       " 4.709999999999944,\n",
       " 4.719999999999944,\n",
       " 7.849999999999877,\n",
       " 7.859999999999877]"
      ]
     },
     "execution_count": 16,
     "metadata": {},
     "output_type": "execute_result"
    }
   ],
   "source": [
    "#Listar los min y max en el intervalo\n",
    "\n",
    "a=float(input(\"Ingrese un limite del intervalo a analizar: \"))\n",
    "b=float(input(\"Ingrese otro limite del intervalo a analizar: \"))\n",
    "s=float(input(\"Ingrese la precición deseada en valores de x: \"))\n",
    "\n",
    "def xMinMax(f, a, b, s): # La funcion requiere de una funcion, lim inf (a), lim sup (b) y step (s) \n",
    "\n",
    "    x=a #Iniciar x con el valor de limite inf del intervalo\n",
    "    xmima=[] # lista vacia para los resultados\n",
    "    \n",
    "    while x<b: # Mientras x sea menor al limite superior...\n",
    "        \n",
    "        if (f(x-s)-f(x))*(f(x+s)-f(x))>0: # Evaluar la f en x y un step antes y despues. si max o min las dif son de igual signo (>0)\n",
    "            xmima.append(x) #esto agrega el valor de x a la lista xmima\n",
    "\n",
    "        x=x+s # aumentar x en un step\n",
    "        \n",
    "    print(\"Máx o Mín en: \",xmima)        \n",
    "    return xmima  \n",
    "    \n",
    "    \n",
    "xMinMax(fn3, a, b, s)\n"
   ]
  },
  {
   "cell_type": "code",
   "execution_count": 95,
   "id": "471fc327",
   "metadata": {},
   "outputs": [
    {
     "name": "stdout",
     "output_type": "stream",
     "text": [
      "Máx o Mín en:  [1.5700000000000012, 1.5800000000000012, 4.709999999999944, 4.719999999999944, 7.849999999999877, 7.859999999999877]\n",
      "Inicio (a0) tramos con raices [1.5700000000000012, 1.5800000000000012, 4.709999999999944, 4.719999999999944, 7.849999999999877]\n",
      "Finales (b0) tramo con raices [1.5800000000000012, 4.709999999999944, 4.719999999999944, 7.849999999999877, 7.859999999999877]\n",
      "1364.4247951073705 1545.9596136524463\n",
      "524.1070262489109 506.1216423680125\n",
      "549.9837264085056 570.0199900505237\n",
      "379.40774793253695 371.55072566252477\n",
      "417.31789419481026 426.5955547408005\n",
      "Inicio (a) tramos con raices [1.5800000000000012, 4.719999999999944]\n",
      "Finales (b) tramo con raices [4.709999999999944, 7.849999999999877]\n"
     ]
    }
   ],
   "source": [
    "# este fragmento de código esta separado para facilitar su testeo pero luego es parte del código final\n",
    "#### evaluar los tramos que contengan raices\n",
    "ini=0 #float(input(\"ingrese el inicio del intervalo: \"))\n",
    "fin=9.5 #float(input(\"ingrese el final del intervalo: \")\n",
    "\n",
    "#añadir ini y fin al los minmax\n",
    "tramox= xMinMax(fn3, ini, fin, s) # un vector de valores de x con min y max que serviran de limites de tramos\n",
    "#print(\"xminmax \", xminmax)\n",
    "#print(type(xminmax))\n",
    "\n",
    "\n",
    "tramox.append(ini) # agregarle a los min y max el valor del inicio del intervalo\n",
    "tramox.append(fin) # agregarle a los min y max el valor del fin del intervalo\n",
    "#print(\"tramox \", tramox)\n",
    "\n",
    "\n",
    "tramox=sorted(tramox) # ordenar de menor a mayor\n",
    "#print(\"tramox ord\", tramox)\n",
    "\n",
    "a0=[] # iniciar a con una lista vacia\n",
    "b0=[] # iniciar b con una lista vacia\n",
    "\n",
    "# primer paso ver si los extremos de cada tramo tienen signos diferentes\n",
    "for i in range(len(tramox)-1): # aplicar a cada elemento de tramox menos el último que ya sera comparado con el anterior\n",
    "    if fn3(tramox[i])*fn3(tramox[i+1])<0: # ver si la funcion cambia de signo en el tramo\n",
    "        a0.append(tramox[i]) # si cambia agregar el inicio en a\n",
    "        b0.append(tramox[i+1]) # si cambia agregar el inicio en b\n",
    "\n",
    "# Segundo paso, evaluar si la funcion en los limites tienden a infinito\n",
    "a=[] # iniciar a con una lista vacia\n",
    "b=[] # iniciar b con una lista vacia\n",
    "\n",
    "print(\"Inicio (a0) tramos con raices\", a0)\n",
    "print(\"Finales (b0) tramo con raices\", b0)\n",
    "\n",
    "for i in range(len(a0)): # aplicar a cada elemento de tramox menos el último que ya sera comparado con el anterior\n",
    "    diftramo=abs((fn3(a0[i])-fn3(b0[i])))# La dif de la funcion en el tramo\n",
    "    diftramored=abs((fn3(a0[i]+(s/100))-fn3(b0[i]-(s/100)))) # La dif de la funcion en el tramo reducido en un s por lado\n",
    "    print(diftramo, diftramored)\n",
    "    if diftramo> diftramored: # ver si la funcion en los extremos se aproxima al reducir el tramo en 1 step\n",
    "        a.append(a0[i]) # si cambia agregar el inicio en a\n",
    "        b.append(b0[i]) # si cambia agregar el inicio en b\n",
    "    \n",
    "    \n",
    "print(\"Inicio (a) tramos con raices\", a)\n",
    "print(\"Finales (b) tramo con raices\", b)"
   ]
  },
  {
   "cell_type": "code",
   "execution_count": 92,
   "id": "7ca534e5",
   "metadata": {},
   "outputs": [],
   "source": []
  },
  {
   "cell_type": "code",
   "execution_count": 96,
   "id": "20b0bfae",
   "metadata": {},
   "outputs": [
    {
     "data": {
      "image/png": "[encoded data removed]",
      "text/plain": [
       "<Figure size 432x1152 with 2 Axes>"
      ]
     },
     "metadata": {
      "needs_background": "light"
     },
     "output_type": "display_data"
    }
   ],
   "source": [
    "import numpy as npy\n",
    "import matplotlib.pyplot as plt\n",
    "\n",
    "#Graficar la funcion en las raices\n",
    "\n",
    "#def fn3(x):\n",
    "#   import numpy as npy\n",
    "#   return npy.tan(x) - x + 1\n",
    "\n",
    "\n",
    "fig, ax = plt.subplots(figsize=(6, 16), nrows=int(len(a)), ncols=1)\n",
    "\n",
    "for i in range(len(a)):\n",
    "    x= npy.arange(a[i], b[i], 0.01)\n",
    "    y3=fn3(x)\n",
    "    \n",
    "\n",
    "    ax[i].set_xlabel('X')\n",
    "    ax[i].set_ylabel('Y')\n",
    "    ax[i].set_title('Gráfico de la Función')\n",
    "    ax[i].grid()\n",
    "    ax[i].plot(x,y3, label= \"y = tan(x) - x + 1\")\n",
    "    ax[i].legend()"
   ]
  },
  {
   "cell_type": "code",
   "execution_count": 106,
   "id": "efd57047",
   "metadata": {},
   "outputs": [
    {
     "name": "stdout",
     "output_type": "stream",
     "text": [
      "Máx o Mín en:  [1.5700000000000012, 1.5800000000000012, 4.709999999999944, 4.719999999999944, 7.849999999999877, 7.859999999999877]\n",
      "Raíz 0  aproximada en  4.428789062499949   Tolerancia en  0.01\n",
      "Raíz 1  aproximada en  7.7059558105467545   Tolerancia en  0.01\n"
     ]
    }
   ],
   "source": [
    "#### funcion para obtener las raices\n",
    "\n",
    "def fn3(x):\n",
    "    import numpy as npy\n",
    "    return npy.tan(x) - x + 1 #Ingresar la funcion\n",
    "\n",
    "    \n",
    "def root2Bis(f): # f requiere como entrada una funcion definida previamente\n",
    "    import numpy as npy\n",
    "    ini=0 #float(input(\"ingrese el inicio del intervalo: \"))\n",
    "    fin=9.5 #float(input(\"ingrese el final del intervalo: \"))\n",
    "    tol=0.01 #float(input(\"ingrese la tolerancia deseada: \"))\n",
    "    s=0.01\n",
    "   \n",
    "    # a partir de aqui el tramo de codigo que avalua si los tramos contienen una raiz\n",
    "    #añadir ini y fin al los minmax\n",
    "    tramox= xMinMax(fn3, ini, fin, s) # un vector de valores de x con min y max que serviran de limites de tramos\n",
    "    #print(\"xminmax \", xminmax)\n",
    "    #print(type(xminmax))\n",
    "\n",
    "\n",
    "    tramox.append(ini) # agregarle a los min y max el valor del inicio del intervalo\n",
    "    tramox.append(fin) # agregarle a los min y max el valor del fin del intervalo\n",
    "    #print(\"tramox \", tramox)\n",
    "\n",
    "\n",
    "    tramox=sorted(tramox) # ordenar de menor a mayor\n",
    "    #print(\"tramox ord\", tramox)\n",
    "\n",
    "    a0=[] # iniciar a con una lista vacia\n",
    "    b0=[] # iniciar b con una lista vacia\n",
    "\n",
    "    # primer paso ver si los extremos de cada tramo tienen signos diferentes\n",
    "    for i in range(len(tramox)-1): # aplicar a cada elemento de tramox menos el último que ya sera comparado con el anterior\n",
    "        if fn3(tramox[i])*fn3(tramox[i+1])<0: # ver si la funcion cambia de signo en el tramo\n",
    "            a0.append(tramox[i]) # si cambia agregar el inicio en a\n",
    "            b0.append(tramox[i+1]) # si cambia agregar el inicio en b\n",
    "\n",
    "    # Segundo paso, evaluar si la funcion en los limites tienden a infinito\n",
    "    a=[] # iniciar a con una lista vacia\n",
    "    b=[] # iniciar b con una lista vacia\n",
    "\n",
    "    #print(\"Inicio (a0) tramos con raices\", a0)\n",
    "    #print(\"Finales (b0) tramo con raices\", b0)\n",
    "\n",
    "    for i in range(len(a0)): # aplicar a cada elemento de tramox menos el último que ya sera comparado con el anterior\n",
    "        diftramo=abs((fn3(a0[i])-fn3(b0[i])))# La dif de la funcion en el tramo\n",
    "        diftramored=abs((fn3(a0[i]+(s/100))-fn3(b0[i]-(s/100)))) # La dif de la funcion en el tramo reducido en un s por lado\n",
    "        #print(diftramo, diftramored)\n",
    "        if diftramo> diftramored: # ver si la funcion en los extremos se aproxima al reducir el tramo en 1 step\n",
    "            a.append(a0[i]) # si cambia agregar el inicio en a\n",
    "            b.append(b0[i]) # si cambia agregar el inicio en b\n",
    "\n",
    "\n",
    "   # print(\"Inicio (a) tramos con raices\", a)\n",
    "    #print(\"Finales (b) tramo con raices\", b)\n",
    "   \n",
    "\n",
    "    # a partir de aqui buscar las raices en cada tramo\n",
    "    \n",
    "    for i in range(len(a)):\n",
    "        evalu=1 #iniciar el evaluador\n",
    "        while evalu>=tol:\n",
    "            c= (a[i]+b[i])/2 #calcula c (centro de tramo) para el rango ai-bi\n",
    "            fa=f(a[i]) #calcula la fn(ai)\n",
    "            fb=f(b[i])#calcula la fn(bi)\n",
    "            fc=f(c) #calcula la fn(ci)\n",
    "            #print(a[i],c,b[i])\n",
    "            \n",
    "            if (fa*fc)<0: #verifica si la fn tiene diferente signo en a y c\n",
    "                b[i]=c #si tiene distinto signo reemplaza b por c\n",
    "                #print(\"1er segmento\")\n",
    "            \n",
    "            elif (fb*fc)<0: #verifica si la fn tiene diferente signo en c y b\n",
    "                a[i]=c #si tiene distinto signo reemplaza a por c\n",
    "                #print(\"2do segmento\")\n",
    "                \n",
    "            elif fc==0: # si la funcion en c = 0 es que c cayo en la raiz exacta\n",
    "                print(\"Eureka\")\n",
    "                print(\"Raíz\",i, \" exacta en \", c)\n",
    "                return c # para que salga del bucle, no es necesario si se evalua por toterancia de Fn(c)\n",
    "\n",
    "            else:\n",
    "                print(\"Hay algo que va mal\") # si el tramo no incluye raices o tiene mas de una salta acá\n",
    "\n",
    "            evalu=abs(f(c)) # evaluador que consiste en la fn(c) para ver que sea menor que la tolerancia\n",
    "            #print(\"f(c)\", evalu)\n",
    "\n",
    "        print(\"Raíz\",i, \" aproximada en \", c, \"  Tolerancia en \", tol)\n",
    "        \n",
    "\n",
    "root2Bis(fn3) # la funcion requiere una funcion f previamente definida, por ej fn"
   ]
  }
 ],
 "metadata": {
  "kernelspec": {
   "display_name": "Python 3 (ipykernel)",
   "language": "python",
   "name": "python3"
  },
  "language_info": {
   "codemirror_mode": {
    "name": "ipython",
    "version": 3
   },
   "file_extension": ".py",
   "mimetype": "text/x-python",
   "name": "python",
   "nbconvert_exporter": "python",
   "pygments_lexer": "ipython3",
   "version": "3.9.7"
  }
 },
 "nbformat": 4,
 "nbformat_minor": 5
}
